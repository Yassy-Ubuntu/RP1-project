{
 "cells": [
  {
   "cell_type": "markdown",
   "id": "07cb3bee-c5a6-48b6-9a0b-9e07c1714929",
   "metadata": {},
   "source": [
    "# Python code for Single-Cell pairs.txt files \n",
    "This step will generate different pairs txt fles for different resolutions of the Single-Cell data"
   ]
  },
  {
   "cell_type": "markdown",
   "id": "cbb8dbff-036b-4754-857e-f98875aaecfd",
   "metadata": {},
   "source": [
    "### Import packages\n"
   ]
  },
  {
   "cell_type": "code",
   "execution_count": 1,
   "id": "8f03478e-9d29-4f30-802f-b29feba88a28",
   "metadata": {},
   "outputs": [],
   "source": [
    "import numpy as np\n",
    "from PIL import Image\n",
    "import os\n",
    "import csv\n",
    "import pandas as pd\n",
    "from pathlib import Path\n",
    "import seaborn as sns\n",
    "import matplotlib.pyplot as plt"
   ]
  },
  {
   "cell_type": "code",
   "execution_count": 2,
   "id": "cd5fae6c-5da4-4541-bfca-bf3de15c770f",
   "metadata": {},
   "outputs": [],
   "source": [
    "def find_replace(text_old,text_new,file_full_path):\n",
    "    # Read in the file\n",
    "    with open(file_full_path, 'r') as file:\n",
    "        filedata = file.read()\n",
    "\n",
    "    # Replace the target string\n",
    "    filedata = filedata.replace(text_old, text_new)\n",
    "\n",
    "    # Write the file out again\n",
    "    with open(file_full_path, 'w') as file:\n",
    "        file.write(filedata)"
   ]
  },
  {
   "cell_type": "markdown",
   "id": "96994085-da06-472c-a94d-64dfb487c9bb",
   "metadata": {
    "tags": []
   },
   "source": [
    "### Import data"
   ]
  },
  {
   "cell_type": "code",
   "execution_count": 3,
   "id": "b61d3c09-88fc-443d-a15a-63792fc28bd2",
   "metadata": {},
   "outputs": [],
   "source": [
    "# Set the path to the directory containing pairs\n",
    "input_directory = \"/media/msbb/ssd2/Yasmine_copy/Sci_HiC_pairs/GSE208045_sci_ra_pairs/\"\n",
    "# Create a new directory called \"pairs\"\n",
    "save_directory = \"/media/msbb/ssd2/Yasmine_copy/Sci_HiC_pairs/Thp1_monocyte_pairs\"\n",
    "os.makedirs(save_directory, exist_ok=True)"
   ]
  },
  {
   "cell_type": "markdown",
   "id": "d4205d03-1d3d-4134-99ca-608cc4763979",
   "metadata": {
    "tags": []
   },
   "source": [
    "### Loop through files to make new Dataframes"
   ]
  },
  {
   "cell_type": "code",
   "execution_count": 4,
   "id": "c59c4e29-d94b-4873-9dac-5cc7683fc012",
   "metadata": {
    "tags": []
   },
   "outputs": [
    {
     "ename": "FileNotFoundError",
     "evalue": "[Errno 2] No such file or directory: '/media/msbb/ssd2/Yasmine_copy/Sci_HiC_pairs/GSE208045_sci_ra_pairs/'",
     "output_type": "error",
     "traceback": [
      "\u001b[0;31m---------------------------------------------------------------------------\u001b[0m",
      "\u001b[0;31mFileNotFoundError\u001b[0m                         Traceback (most recent call last)",
      "Cell \u001b[0;32mIn[4], line 15\u001b[0m\n\u001b[1;32m     12\u001b[0m         file\u001b[38;5;241m.\u001b[39mwrite(filedata)\n\u001b[1;32m     14\u001b[0m \u001b[38;5;66;03m# For the Thp1 macrophages infected with Mtb\u001b[39;00m\n\u001b[0;32m---> 15\u001b[0m input_names \u001b[38;5;241m=\u001b[39m os\u001b[38;5;241m.\u001b[39mlistdir(input_directory)\n\u001b[1;32m     16\u001b[0m input_paths \u001b[38;5;241m=\u001b[39m [os\u001b[38;5;241m.\u001b[39mpath\u001b[38;5;241m.\u001b[39mjoin(input_directory, input_name) \u001b[38;5;28;01mfor\u001b[39;00m input_name \u001b[38;5;129;01min\u001b[39;00m input_names \u001b[38;5;28;01mif\u001b[39;00m input_name\u001b[38;5;241m.\u001b[39mendswith(\u001b[38;5;124m\"\u001b[39m\u001b[38;5;124m.txt\u001b[39m\u001b[38;5;124m\"\u001b[39m)]\n\u001b[1;32m     18\u001b[0m \u001b[38;5;66;03m# Step 1: Check for Errors and Rename Columns\u001b[39;00m\n",
      "\u001b[0;31mFileNotFoundError\u001b[0m: [Errno 2] No such file or directory: '/media/msbb/ssd2/Yasmine_copy/Sci_HiC_pairs/GSE208045_sci_ra_pairs/'"
     ]
    }
   ],
   "source": [
    "# Define the function to find and replace text in a file\n",
    "def find_replace(text_old, text_new, file_full_path):\n",
    "    # Read in the file\n",
    "    with open(file_full_path, 'r') as file:\n",
    "        filedata = file.read()\n",
    "\n",
    "    # Replace the target strings\n",
    "    filedata = filedata.replace(text_old, text_new)\n",
    "\n",
    "    # Write the file out again\n",
    "    with open(file_full_path, 'w') as file:\n",
    "        file.write(filedata)\n",
    "\n",
    "# For the Thp1 macrophages infected with Mtb\n",
    "input_names = os.listdir(input_directory)\n",
    "input_paths = [os.path.join(input_directory, input_name) for input_name in input_names if input_name.endswith(\".txt\")]\n",
    "\n",
    "# Step 1: Check for Errors and Rename Columns\n",
    "for input_name, input_path in zip(input_names, input_paths):\n",
    "    # Read chrom file and add it to DataFrame\n",
    "    COLUMN_NAMES = ['readID', 'chr1', 'position1', 'chr2', 'position2', 'strand1', 'strand2']\n",
    "    data = pd.read_csv(input_path, sep='\\t', names=COLUMN_NAMES, skiprows=2)\n",
    "    \n",
    "    # Select and rename columns\n",
    "    data = data[['chr1', 'position1', 'chr2', 'position2']]        \n",
    "    data.rename(columns={'chr1': '#chr_A', 'position1': 'pos_A', 'chr2': 'chrB', 'position2': 'pos_B'}, inplace=True)\n",
    "    \n",
    "    # Save the modified DataFrame as a new txt file in the pairs directory\n",
    "    output_filename = os.path.join(save_directory, input_name)\n",
    "    data.to_csv(output_filename, sep='\\t', index=False)\n",
    "    \n",
    "    # Find and replace \"chromosome X\" and \"chromosome Y\" in the original input file\n",
    "    find_replace('chrX', 'chr23', input_path)\n",
    "    find_replace('chrY', 'chr24', input_path)\n",
    "\n",
    "# Step 2: Check Data Reading\n",
    "print(\"Input Paths:\")\n",
    "print(input_paths)\n",
    "\n",
    "for input_name, input_path in zip(input_names, input_paths):\n",
    "    print(\"Processing:\", input_name)\n",
    "    print(\"Input Path:\", input_path)\n",
    "    # Read chrom file and add it to DataFrame\n",
    "    COLUMN_NAMES = ['readID', 'chr1', 'position1', 'chr2', 'position2', 'strand1', 'strand2']\n",
    "    data = pd.read_csv(input_path, sep='\\t', names=COLUMN_NAMES, skiprows=2)\n",
    "    print(\"Data:\")\n",
    "    print(data.head())  # Print the first few rows of the DataFrame\n",
    "\n",
    "# Step 3: Check DataFrame Operations\n",
    "for input_name, input_path in zip(input_names, input_paths):\n",
    "    # Read chrom file and add it to DataFrame\n",
    "    COLUMN_NAMES = ['readID', 'chr1', 'position1', 'chr2', 'position2', 'strand1', 'strand2']\n",
    "    data = pd.read_csv(input_path, sep='\\t', names=COLUMN_NAMES, skiprows=2)\n",
    "    \n",
    "    # Select and rename columns\n",
    "    data = data[['chr1', 'position1', 'chr2', 'position2']]        \n",
    "    data.rename(columns={'chr1': '#chr_A', 'position1': 'pos_A', 'chr2': 'chrB', 'position2': 'pos_B'}, inplace=True)\n",
    "    print(\"Data after renaming:\")\n"
   ]
  },
  {
   "cell_type": "markdown",
   "id": "c78b1a64-142c-4bed-88cb-8f89cfa06700",
   "metadata": {
    "tags": []
   },
   "source": [
    "## Creating HiC from Single-Cell pairs files"
   ]
  },
  {
   "cell_type": "markdown",
   "id": "c3d6fcf0-5bd4-4645-aacf-90f63d85caec",
   "metadata": {},
   "source": [
    "In order to retrieve the Single-Cell HiC data, we need to run the Juicertools on all the pairs files from the Single-Cell"
   ]
  },
  {
   "cell_type": "code",
   "execution_count": 55,
   "id": "664aad98-3052-4c04-8c91-e5ffe8863f8c",
   "metadata": {},
   "outputs": [],
   "source": [
    "# Directory for import data\n",
    "pairs_directory= '/media/msbb/ssd2/Yasmine_copy/Sci_pairs/GSE208045_sci_thpp_pairs/sci_thpp_pairs_txt/'\n",
    "\n",
    "# Create a new directory called \"Single_Cell_HiC\"\n",
    "Hic_directory = '/media/msbb/ssd2/Yasmine_copy/Single_Cell_HiC/Sci_HiC/Resolution_5e5/Macrophage-Mtb_Sci_HiC/'\n",
    "os.makedirs(Hic_directory, exist_ok=True)\n",
    "\n",
    "# List all files with the .txt extension in the pairs directory\n",
    "pairs_files = [pairs_file for pairs_file in os.listdir(pairs_directory) if pairs_file.endswith(\".txt\")]"
   ]
  },
  {
   "cell_type": "code",
   "execution_count": 56,
   "id": "6f1abe98-b1ef-4b96-8401-51ad2e4de69a",
   "metadata": {
    "tags": []
   },
   "outputs": [],
   "source": [
    "# Loop through each pairs file and generate the corresponding .hic file\n",
    "for pairs_file in pairs_files:\n",
    "    # Paths for input and output files\n",
    "    input_file_path = os.path.join(pairs_directory, pairs_file)\n",
    "    output_file_path = os.path.join(Hic_directory, os.path.splitext(pairs_file)[0] + \".hic\")\n",
    "    \n",
    "    # Run the juicer_tools command for each file\n",
    "    command = f'java -jar juicer_tools_1.22.01.jar pre \"{input_file_path}\" \"{output_file_path}\" hg19 -r 500000'\n",
    "    os.system(command)\n",
    "\n",
    "        "
   ]
  },
  {
   "cell_type": "code",
   "execution_count": 22,
   "id": "cd259f40-bcba-4c00-9df6-0ed009eeedfb",
   "metadata": {
    "tags": []
   },
   "outputs": [
    {
     "ename": "FileNotFoundError",
     "evalue": "[Errno 2] No such file or directory: '/media/msbb/ssd2/Yasmine_copy/Single_Cell_HiC/Sci_HiC/Resolution_10e3/Macrophage_Sci_HiC/'",
     "output_type": "error",
     "traceback": [
      "\u001b[0;31m---------------------------------------------------------------------------\u001b[0m",
      "\u001b[0;31mFileNotFoundError\u001b[0m                         Traceback (most recent call last)",
      "\u001b[0;32m<ipython-input-22-8cf4f8d7f8a9>\u001b[0m in \u001b[0;36m<module>\u001b[0;34m\u001b[0m\n\u001b[1;32m      7\u001b[0m \u001b[0mos\u001b[0m\u001b[0;34m.\u001b[0m\u001b[0mmakedirs\u001b[0m\u001b[0;34m(\u001b[0m\u001b[0mpairs_directory\u001b[0m\u001b[0;34m,\u001b[0m \u001b[0mexist_ok\u001b[0m\u001b[0;34m=\u001b[0m\u001b[0;32mTrue\u001b[0m\u001b[0;34m)\u001b[0m\u001b[0;34m\u001b[0m\u001b[0;34m\u001b[0m\u001b[0m\n\u001b[1;32m      8\u001b[0m \u001b[0;34m\u001b[0m\u001b[0m\n\u001b[0;32m----> 9\u001b[0;31m \u001b[0mhic_files\u001b[0m \u001b[0;34m=\u001b[0m \u001b[0mos\u001b[0m\u001b[0;34m.\u001b[0m\u001b[0mlistdir\u001b[0m\u001b[0;34m(\u001b[0m\u001b[0mhic_directory\u001b[0m\u001b[0;34m)\u001b[0m\u001b[0;34m\u001b[0m\u001b[0;34m\u001b[0m\u001b[0m\n\u001b[0m\u001b[1;32m     10\u001b[0m \u001b[0mhic_files\u001b[0m \u001b[0;34m=\u001b[0m \u001b[0;34m[\u001b[0m\u001b[0mhic_file\u001b[0m \u001b[0;32mfor\u001b[0m \u001b[0mhic_file\u001b[0m \u001b[0;32min\u001b[0m \u001b[0mhic_files\u001b[0m \u001b[0;32mif\u001b[0m \u001b[0mhic_file\u001b[0m\u001b[0;34m.\u001b[0m\u001b[0mendswith\u001b[0m\u001b[0;34m(\u001b[0m\u001b[0;34m\".hic\"\u001b[0m\u001b[0;34m)\u001b[0m\u001b[0;34m]\u001b[0m\u001b[0;34m\u001b[0m\u001b[0;34m\u001b[0m\u001b[0m\n\u001b[1;32m     11\u001b[0m \u001b[0mhic_files_names\u001b[0m \u001b[0;34m=\u001b[0m \u001b[0;34m[\u001b[0m\u001b[0mhic_file\u001b[0m\u001b[0;34m[\u001b[0m\u001b[0;34m:\u001b[0m\u001b[0;34m-\u001b[0m\u001b[0;36m4\u001b[0m\u001b[0;34m]\u001b[0m \u001b[0;32mfor\u001b[0m \u001b[0mhic_file\u001b[0m \u001b[0;32min\u001b[0m \u001b[0mhic_files\u001b[0m\u001b[0;34m]\u001b[0m\u001b[0;34m\u001b[0m\u001b[0;34m\u001b[0m\u001b[0m\n",
      "\u001b[0;31mFileNotFoundError\u001b[0m: [Errno 2] No such file or directory: '/media/msbb/ssd2/Yasmine_copy/Single_Cell_HiC/Sci_HiC/Resolution_10e3/Macrophage_Sci_HiC/'"
     ]
    }
   ],
   "source": [
    "# Set the path to the directory containing hic files\n",
    "hic_directory = \"/media/msbb/ssd2/Yasmine_copy/Single_Cell_HiC/Sci_HiC/Resolution_10e3/Macrophage_Sci_HiC/\"\n",
    "\n",
    "# Create a new directory called \"pairs\"\n",
    "pairs_directory = \"/media/msbb/ssd2/Yasmine_copy/Single_Cell_HiC/Sci_Pairs_resolutions_Macrophages\"\n",
    "\n",
    "os.makedirs(pairs_directory, exist_ok=True)\n",
    "\n",
    "hic_files = os.listdir(hic_directory)\n",
    "hic_files = [hic_file for hic_file in hic_files if hic_file.endswith(\".hic\")]\n",
    "hic_files_names = [hic_file[:-4] for hic_file in hic_files]\n",
    "hic_files_paths = [f\"{hic_directory}/{hic_file}\" for hic_file in hic_files]\n",
    "discretisation_steps = [10e3, 5e4, 10e4, 5e5, 10e5]\n",
    "\n",
    "for step in discretisation_steps:\n",
    "    step = int(step)\n",
    "    for hic_file_name, hic_file_path in zip(hic_files_names, hic_files_paths):\n",
    "        # Loop through each hic file in the directory\n",
    "\n",
    "        # Loop through each chromosome, including X and Y\n",
    "        all_pair_df = pd.DataFrame(columns=['#chrA', 'pos_A', 'chrB', 'pos_B'])\n",
    "        if not os.path.isdir(f'{pairs_directory}/{step}/{hic_file_name}'):\n",
    "            os.makedirs(f'{pairs_directory}/{step}/{hic_file_name}')\n",
    "\n",
    "        for chr in range(1, 25):\n",
    "            if chr == 23:\n",
    "                chr_name = \"X\"\n",
    "            elif chr == 24:\n",
    "                chr_name = \"Y\"\n",
    "            else:\n",
    "                chr_name = str(chr)\n",
    "\n",
    "            # Construct the new file name without the hic extension and with the chromosome name\n",
    "            new_file_name = f'{pairs_directory}/{step}/{hic_file_name}/{hic_file_name}_{chr_name}.pairs.txt'\n",
    "\n",
    "            # Run juicer command using double quotes to wrap the entire command\n",
    "            os.system(\n",
    "                f'java -jar juicer_tools_1.22.01.jar dump observed NONE {hic_file_path} chr{chr_name} chr{chr_name} BP {step} {new_file_name}')\n",
    "            print(f\"Processed: {hic_file_name} chromosome {chr_name}\")\n",
    "\n",
    "            # read chrom file and add it to DataFrame\n",
    "            COLUMN_NAMES = ['pos_A', 'pos_B']\n",
    "            data = pd.read_csv(new_file_name, sep='\\t', names=COLUMN_NAMES)\n",
    "\n",
    "            # add new columns encoding chrom numbers\n",
    "            data['#chrA'] = ['chr' + str(chr_name)] * len(data)\n",
    "            data['chrB'] = ['chr' + str(chr_name)] * len(data)\n",
    "\n",
    "            # swap the columns to have CT code readable format\n",
    "            data = data.reindex(columns=['#chrA', 'pos_A', 'chrB', 'pos_B'])\n",
    "\n",
    "            # add one more chrom to all croms data frame\n",
    "            all_pair_df = pd.concat([all_pair_df, data], ignore_index=True, sort=False)\n",
    "\n",
    "        # save df as txt\n",
    "        all_pair_df.to_csv(f'{new_file_name[:-12]}_all.pairs.txt', sep='\\t', index=False)"
   ]
  },
  {
   "cell_type": "markdown",
   "id": "c7afe903-33c6-44db-8c47-98e52dd2122e",
   "metadata": {},
   "source": [
    "## Process to fasten the generation of the txt files\n",
    "The following code can be used to fasten the time it takes to generate the files. This code uses multiple cores of the computer system."
   ]
  },
  {
   "cell_type": "code",
   "execution_count": 3,
   "id": "b0fe8e93-0c18-4c86-ad9b-55054c4a0d80",
   "metadata": {
    "tags": []
   },
   "outputs": [],
   "source": [
    "def process_the_cell(hic_file_base_name, \n",
    "                     hic_file_path, \n",
    "                     step, \n",
    "                     pairs_output_directory, \n",
    "                     ):\n",
    "    \n",
    "    all_pair_df = pd.DataFrame(columns=['#chrA', 'pos_A', 'chrB', 'pos_B', 'pairs_of_contacts'])\n",
    "\n",
    "    \n",
    "    for chr_num in range(1, 25):\n",
    "        if chr_num == 23:\n",
    "            chr_name = \"X\"\n",
    "        elif chr_num == 24:\n",
    "            chr_name = \"Y\"\n",
    "        else:\n",
    "            chr_name = str(chr_num)\n",
    "\n",
    "        # Construct the new file name without the .hic extension and with the chromosome name\n",
    "        new_file_name = f'{hic_file_base_name}_{chr_name}.pairs.txt'\n",
    "\n",
    "        # Run juicer command using double quotes to wrap the entire command\n",
    "        print(step)\n",
    "        os.system(\n",
    "            f'java -jar juicer_tools_1.22.01.jar dump observed NONE {hic_file_path} chr{chr_name} chr{chr_name} BP {int(float(step))} {os.path.join(pairs_output_directory, new_file_name)}')\n",
    "        print(f\"Processed: {hic_file_base_name} chromosome {chr_name} at {step} bp\")\n",
    "\n",
    "        # Read the pairs file and add it to DataFrame\n",
    "        COLUMN_NAMES = ['pos_A', 'pos_B', 'pairs_of_contacts']\n",
    "        data = pd.read_csv(os.path.join(pairs_output_directory, new_file_name), sep='\\t', names=COLUMN_NAMES)\n",
    "\n",
    "        # Add new columns encoding chromosome numbers\n",
    "        data['#chrA'] = ['chr' + str(chr_name)] * len(data)\n",
    "        data['chrB'] = ['chr' + str(chr_name)] * len(data)\n",
    "\n",
    "        # Swap the columns to have CT code readable format\n",
    "        data = data.reindex(columns=['#chrA', 'pos_A', 'chrB', 'pos_B','pairs_of_contacts'])\n",
    "\n",
    "        # add one more chrom to all croms data frame\n",
    "        all_pair_df = pd.concat([all_pair_df, data], ignore_index=True, sort=False)\n",
    "\n",
    "    # save df as txt\n",
    "    all_pair_df.to_csv(f'{pairs_output_directory}/{new_file_name[:-12]}_all.pairs.txt', sep='\\t', index=False)\n"
   ]
  },
  {
   "cell_type": "code",
   "execution_count": 4,
   "id": "417e8a4f-c866-4427-9779-2905ce0df6e6",
   "metadata": {
    "tags": []
   },
   "outputs": [],
   "source": [
    "def process_hic_files(hic_directory, pairs_directory, step):\n",
    "    hic_files = os.listdir(hic_directory)\n",
    "    hic_files = [hic_file for hic_file in hic_files if hic_file.endswith(\".hic\")]\n",
    "\n",
    "    for hic_file_name in hic_files:\n",
    "        hic_file_path = os.path.join(hic_directory, hic_file_name)\n",
    "        hic_file_base_name = hic_file_name[:-4]\n",
    "        \n",
    "        \n",
    "        pairs_output_directory = os.path.join(pairs_directory, hic_file_base_name)\n",
    "        # print(hic_output_directory)\n",
    "        if not os.path.exists(pairs_output_directory):\n",
    "            os.makedirs(pairs_output_directory, exist_ok=True)\n",
    "\n",
    "            process_the_cell(hic_file_base_name,\n",
    "                         hic_file_path,\n",
    "                         step,\n",
    "                         pairs_output_directory,\n",
    "                         )          "
   ]
  },
  {
   "cell_type": "markdown",
   "id": "ed9c8aae-05cc-44e5-a4f9-7599a6ce10c3",
   "metadata": {},
   "source": [
    "### Parallel execution"
   ]
  },
  {
   "cell_type": "code",
   "execution_count": 33,
   "id": "7d9650a2-5835-4510-a0de-e3eb398ffa17",
   "metadata": {
    "tags": []
   },
   "outputs": [],
   "source": [
    "from multiprocessing import Pool\n",
    "\n",
    "cell_types = ['Macrophage','Macrophage-Mtb','Monocyte']\n",
    "\n",
    "#Running the process \n",
    "\n",
    "discretisation_steps = [\"10e3\", \"5e4\", \"10e4\", \"5e5\", \"10e5\"]\n",
    "\n",
    "\n",
    "hic_directory_list = []\n",
    "pairs_directory_list = []\n",
    "discretisation_steps_list = []\n",
    "\n",
    "for step in discretisation_steps:\n",
    "    for cell_type in cell_types:\n",
    "\n",
    "        hic_directory = f\"/media/msbb/ssd2/Yasmine_copy/Single_Cell_HiC/Sci_HiC/{step}/{cell_type}_Sci_HiC/\"\n",
    "        pairs_directory = f\"/media/msbb/ssd2/Yasmine_copy/Sci_pairs_resolutions/Sci_Pairs_Parallel/{step}/{cell_type}_Sci_pairs\"\n",
    "\n",
    "        hic_directory_list.append(hic_directory)\n",
    "        pairs_directory_list.append(pairs_directory)\n",
    "        discretisation_steps_list.append(step)\n",
    "\n",
    "\n",
    "\n",
    "with Pool(15) as p:\n",
    "    p.starmap(process_hic_files, zip(hic_directory_list,pairs_directory_list,discretisation_steps_list))"
   ]
  }
 ],
 "metadata": {
  "kernelspec": {
   "display_name": "Python 3 (ipykernel)",
   "language": "python",
   "name": "python3"
  },
  "language_info": {
   "codemirror_mode": {
    "name": "ipython",
    "version": 3
   },
   "file_extension": ".py",
   "mimetype": "text/x-python",
   "name": "python",
   "nbconvert_exporter": "python",
   "pygments_lexer": "ipython3",
   "version": "3.11.5"
  }
 },
 "nbformat": 4,
 "nbformat_minor": 5
}
